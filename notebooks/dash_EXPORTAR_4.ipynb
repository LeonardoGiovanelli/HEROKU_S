{
 "cells": [
  {
   "cell_type": "code",
   "execution_count": 30,
   "metadata": {
    "execution": {
     "iopub.execute_input": "2021-06-08T23:44:09.422622Z",
     "iopub.status.busy": "2021-06-08T23:44:09.422622Z",
     "iopub.status.idle": "2021-06-08T23:44:09.427624Z",
     "shell.execute_reply": "2021-06-08T23:44:09.426623Z",
     "shell.execute_reply.started": "2021-06-08T23:44:09.422622Z"
    },
    "tags": []
   },
   "outputs": [],
   "source": [
    "import pandas as pd"
   ]
  },
  {
   "cell_type": "code",
   "execution_count": 31,
   "metadata": {
    "execution": {
     "iopub.execute_input": "2021-06-08T23:44:09.428622Z",
     "iopub.status.busy": "2021-06-08T23:44:09.427624Z",
     "iopub.status.idle": "2021-06-08T23:44:09.441621Z",
     "shell.execute_reply": "2021-06-08T23:44:09.441621Z",
     "shell.execute_reply.started": "2021-06-08T23:44:09.428622Z"
    },
    "tags": []
   },
   "outputs": [],
   "source": [
    "import numpy as np"
   ]
  },
  {
   "cell_type": "code",
   "execution_count": 32,
   "metadata": {
    "execution": {
     "iopub.execute_input": "2021-06-08T23:44:09.442622Z",
     "iopub.status.busy": "2021-06-08T23:44:09.442622Z",
     "iopub.status.idle": "2021-06-08T23:44:09.457622Z",
     "shell.execute_reply": "2021-06-08T23:44:09.457622Z",
     "shell.execute_reply.started": "2021-06-08T23:44:09.442622Z"
    },
    "tags": []
   },
   "outputs": [],
   "source": [
    "#import matplotlib.pyplot as plt\n",
    "import ipywidgets\n",
    "from ipywidgets import interactive\n",
    "from ipywidgets import Layout, Button, Label\n",
    "from ipywidgets import GridspecLayout,HBox, VBox, Box\n"
   ]
  },
  {
   "cell_type": "code",
   "execution_count": 33,
   "metadata": {
    "execution": {
     "iopub.execute_input": "2021-06-08T23:44:09.458622Z",
     "iopub.status.busy": "2021-06-08T23:44:09.458622Z",
     "iopub.status.idle": "2021-06-08T23:44:09.473621Z",
     "shell.execute_reply": "2021-06-08T23:44:09.473621Z",
     "shell.execute_reply.started": "2021-06-08T23:44:09.458622Z"
    },
    "tags": []
   },
   "outputs": [],
   "source": [
    "import plotly.graph_objects as go\n",
    "import plotly.express as px\n",
    "\n",
    "from plotly.subplots import make_subplots\n",
    "\n",
    "import bqplot as bq"
   ]
  },
  {
   "cell_type": "code",
   "execution_count": 34,
   "metadata": {
    "execution": {
     "iopub.execute_input": "2021-06-08T23:44:09.474623Z",
     "iopub.status.busy": "2021-06-08T23:44:09.474623Z",
     "iopub.status.idle": "2021-06-08T23:44:09.489621Z",
     "shell.execute_reply": "2021-06-08T23:44:09.489621Z",
     "shell.execute_reply.started": "2021-06-08T23:44:09.474623Z"
    },
    "tags": []
   },
   "outputs": [],
   "source": [
    "all_smooth=list(np.arange(0,0.3,0.05))\n",
    "all_smooth=[round(x,2) for x in all_smooth]"
   ]
  },
  {
   "cell_type": "code",
   "execution_count": 35,
   "metadata": {
    "execution": {
     "iopub.execute_input": "2021-06-08T23:44:09.490622Z",
     "iopub.status.busy": "2021-06-08T23:44:09.490622Z",
     "iopub.status.idle": "2021-06-08T23:44:09.505623Z",
     "shell.execute_reply": "2021-06-08T23:44:09.505623Z",
     "shell.execute_reply.started": "2021-06-08T23:44:09.490622Z"
    },
    "tags": []
   },
   "outputs": [],
   "source": [
    "all_index=['EPU', 'IBC_BR', 'ICE', 'IE_E', 'IPCA', 'ISA_E', 'selic']"
   ]
  },
  {
   "cell_type": "code",
   "execution_count": 36,
   "metadata": {
    "execution": {
     "iopub.execute_input": "2021-06-08T23:44:09.506623Z",
     "iopub.status.busy": "2021-06-08T23:44:09.506623Z",
     "iopub.status.idle": "2021-06-08T23:44:14.164358Z",
     "shell.execute_reply": "2021-06-08T23:44:14.162355Z",
     "shell.execute_reply.started": "2021-06-08T23:44:09.506623Z"
    },
    "tags": []
   },
   "outputs": [],
   "source": [
    "dfs=[]\n",
    "names=[]\n",
    "names_url=[]\n",
    "url='https://raw.githubusercontent.com/LeonardoGiovanelli/TCC_INSPER_LCA/main/'\n",
    "\n",
    "fix='datas_dash_'\n",
    "\n",
    "for i in all_index:\n",
    "    name_aux=[]\n",
    "    names_aux_url=[]\n",
    "    datas=[]\n",
    "    for s in all_smooth:\n",
    "        aux=fix+i+'_'+str(s)+'.csv'\n",
    "        name_aux.append(aux)\n",
    "        \n",
    "        aux_url=url+aux\n",
    "        names_aux_url.append(aux_url)\n",
    "        data=pd.read_csv(aux_url)\n",
    "        datas.append(data)\n",
    "    names.append(name_aux) \n",
    "    names_url.append(names_aux_url)\n",
    "    dfs.append(datas)"
   ]
  },
  {
   "cell_type": "code",
   "execution_count": 37,
   "metadata": {
    "execution": {
     "iopub.execute_input": "2021-06-08T23:44:14.167348Z",
     "iopub.status.busy": "2021-06-08T23:44:14.167348Z",
     "iopub.status.idle": "2021-06-08T23:44:14.789860Z",
     "shell.execute_reply": "2021-06-08T23:44:14.789860Z",
     "shell.execute_reply.started": "2021-06-08T23:44:14.167348Z"
    },
    "tags": []
   },
   "outputs": [],
   "source": [
    "url='https://raw.githubusercontent.com/LeonardoGiovanelli/TCC_INSPER_LCA/main/datas_dash_erro_'\n",
    "dfs_erro=[url+x+'.csv' for x in all_index]\n",
    "dfs_erro=[pd.read_csv(x) for x in dfs_erro]"
   ]
  },
  {
   "cell_type": "code",
   "execution_count": 38,
   "metadata": {
    "execution": {
     "iopub.execute_input": "2021-06-08T23:44:14.791863Z",
     "iopub.status.busy": "2021-06-08T23:44:14.791863Z",
     "iopub.status.idle": "2021-06-08T23:44:14.806861Z",
     "shell.execute_reply": "2021-06-08T23:44:14.805861Z",
     "shell.execute_reply.started": "2021-06-08T23:44:14.791863Z"
    },
    "tags": []
   },
   "outputs": [],
   "source": [
    "def erro_smooth_indices(smooth,indice):\n",
    "    nr=int(round(2+3*smooth/.05,0))\n",
    "    np=int(round(3+3*smooth/.05,0))\n",
    "    real=dfs_erro[indice].iloc[:,nr]\n",
    "    previsto=dfs_erro[indice].iloc[:,np]\n",
    "\n",
    "    erro_div=[p/r-1 for p,r in zip(previsto,real)]\n",
    "    return(erro_div)\n",
    "\n",
    "def erro_mensal_plot(smooth):\n",
    "    erro_mensal=pd.DataFrame([erro_smooth_indices(smooth,i) for i in range(len(all_index))]).transpose()\n",
    "    erro_mensal.columns=all_index\n",
    "    return(erro_mensal)"
   ]
  },
  {
   "cell_type": "code",
   "execution_count": 39,
   "metadata": {
    "execution": {
     "iopub.execute_input": "2021-06-08T23:44:14.808863Z",
     "iopub.status.busy": "2021-06-08T23:44:14.808863Z",
     "iopub.status.idle": "2021-06-08T23:44:14.822866Z",
     "shell.execute_reply": "2021-06-08T23:44:14.821861Z",
     "shell.execute_reply.started": "2021-06-08T23:44:14.808863Z"
    },
    "tags": []
   },
   "outputs": [],
   "source": [
    "def erro_indi_smooth(indice,smooth):\n",
    "    nr=int(round(2+3*smooth/.05,0))\n",
    "    np=int(round(3+3*smooth/.05,0))\n",
    "    real=dfs_erro[indice].iloc[:,nr]\n",
    "    previsto=dfs_erro[indice].iloc[:,np]\n",
    "\n",
    "    erro_div=[p/r-1 for p,r in zip(previsto,real)]\n",
    "    erro_div_mean=sum(erro_div)/len(erro_div)\n",
    "    return(erro_div_mean)\n",
    "\n",
    "def erro_indi_smooths(indice,smooths):\n",
    "    erro_div_means=[erro_indi_smooth(indice,s) for s in smooths]\n",
    "    return(erro_div_means)"
   ]
  },
  {
   "cell_type": "code",
   "execution_count": 40,
   "metadata": {
    "execution": {
     "iopub.execute_input": "2021-06-08T23:44:14.822866Z",
     "iopub.status.busy": "2021-06-08T23:44:14.822866Z",
     "iopub.status.idle": "2021-06-08T23:44:14.838862Z",
     "shell.execute_reply": "2021-06-08T23:44:14.837863Z",
     "shell.execute_reply.started": "2021-06-08T23:44:14.822866Z"
    },
    "tags": []
   },
   "outputs": [],
   "source": [
    "erros=pd.DataFrame([erro_indi_smooths(i,all_smooth) for i  in range(len(all_index))]).transpose()\n",
    "erros.columns=all_index\n",
    "erros.index=all_smooth\n",
    "erros=erros*100\n",
    "erros=erros.round(1)"
   ]
  },
  {
   "cell_type": "code",
   "execution_count": 41,
   "metadata": {
    "execution": {
     "iopub.execute_input": "2021-06-08T23:44:14.839864Z",
     "iopub.status.busy": "2021-06-08T23:44:14.839864Z",
     "iopub.status.idle": "2021-06-08T23:44:14.869860Z",
     "shell.execute_reply": "2021-06-08T23:44:14.869860Z",
     "shell.execute_reply.started": "2021-06-08T23:44:14.839864Z"
    },
    "tags": []
   },
   "outputs": [],
   "source": [
    "erros_de=erros.describe().round(0)"
   ]
  },
  {
   "cell_type": "code",
   "execution_count": 42,
   "metadata": {
    "execution": {
     "iopub.execute_input": "2021-06-08T23:44:14.870861Z",
     "iopub.status.busy": "2021-06-08T23:44:14.870861Z",
     "iopub.status.idle": "2021-06-08T23:44:14.885854Z",
     "shell.execute_reply": "2021-06-08T23:44:14.885854Z",
     "shell.execute_reply.started": "2021-06-08T23:44:14.870861Z"
    },
    "tags": []
   },
   "outputs": [],
   "source": [
    "def index(indice,slider):\n",
    "    all_dims=['EPU','IBC_BR','ICE','IE_E','IPCA','ISA_E','selic']\n",
    "    all_smooth=list(np.arange(0,0.3,0.05))\n",
    "    all_smooth=[round(x,2) for x in all_smooth]\n",
    "    n_indice=all_dims.index(indice)\n",
    "    \n",
    "    r=dfs_erro[n_indice]\n",
    "    \n",
    "    r['Dia']=\"1\"\n",
    "    r['data']=pd.to_datetime(r[\"Ano\"].astype(str) + \"/\" + r[\"Mes\"].astype(str) + \"/\" + r[\"Dia\"])\n",
    "    r=r.drop(columns=['Ano','Mes','Dia'])\n",
    "    \n",
    "    r=r.set_index(['data'])\n",
    "    n_smooth_0=int(3/0.05*slider)\n",
    "    n_smooth_1=int(n_smooth_0+3)\n",
    "    r=r.iloc[:,n_smooth_0:n_smooth_1]\n",
    "    r=r.reset_index()\n",
    "    return(r)"
   ]
  },
  {
   "cell_type": "code",
   "execution_count": 43,
   "metadata": {
    "execution": {
     "iopub.execute_input": "2021-06-08T23:44:14.886846Z",
     "iopub.status.busy": "2021-06-08T23:44:14.886846Z",
     "iopub.status.idle": "2021-06-08T23:44:14.901844Z",
     "shell.execute_reply": "2021-06-08T23:44:14.901844Z",
     "shell.execute_reply.started": "2021-06-08T23:44:14.886846Z"
    },
    "tags": []
   },
   "outputs": [],
   "source": [
    "def plot_index_erro_ploty(indice,smooth):\n",
    "    \n",
    " ############ get data   \n",
    "    r=index(indice,smooth)\n",
    "    \n",
    "    if indice not in ['selic','IPCA']:\n",
    "        r=r.round(1) \n",
    "    else:\n",
    "        r=r.round(2)\n",
    "            \n",
    "    n_real=r.columns[1]\n",
    "    n_pred=r.columns[2]\n",
    "    n_erro=r.columns[3]\n",
    "#############  \n",
    "\n",
    "    fig = make_subplots(rows=1, cols=2)\n",
    "################ comparação\n",
    "    fig = fig.add_trace(go.Scatter(\n",
    "        line=dict(color=\"black\"),\n",
    "        x=r['data'],\n",
    "        y=r[n_pred],\n",
    "         error_y=dict(\n",
    "        type='data',\n",
    "        symmetric=True,\n",
    "        array=r[n_erro]),\n",
    "         name=n_pred),\n",
    "           row=1, col=1)\n",
    "    \n",
    "    fig.add_trace(go.Scatter(\n",
    "        line=dict(color=\"blue\"),\n",
    "        x=r['data'],\n",
    "        y=r[n_real],\n",
    "       name=n_real),\n",
    "         row=1, col=1)\n",
    "    fig.update_yaxes( title=indice+' s'+str(smooth),row=1, col=1)\n",
    "\n",
    "### box\n",
    "    df=erro_mensal_plot(smooth)\n",
    "    df=df*100\n",
    "    df=df.round(0)\n",
    "    x=df.columns\n",
    "    y=list(range(len(df)))\n",
    "    \n",
    "    for xd, yd in zip(x, y):\n",
    "            fig.add_trace(\n",
    "                go.Box(\n",
    "                y=df.iloc[:,yd],\n",
    "                name=xd,\n",
    "                jitter=0.5,\n",
    "                boxpoints=False,\n",
    "                marker_color='black')\n",
    "                ,row=1,col=2)\n",
    "    fig.update_yaxes( title='Erro '+indice+' s'+str(smooth)+'(%)',row=1, col=2)\n",
    "####### show\n",
    "    fig.show()"
   ]
  },
  {
   "cell_type": "code",
   "execution_count": 44,
   "metadata": {
    "execution": {
     "iopub.execute_input": "2021-06-08T23:44:14.902845Z",
     "iopub.status.busy": "2021-06-08T23:44:14.902845Z",
     "iopub.status.idle": "2021-06-08T23:44:14.917843Z",
     "shell.execute_reply": "2021-06-08T23:44:14.917843Z",
     "shell.execute_reply.started": "2021-06-08T23:44:14.902845Z"
    },
    "tags": []
   },
   "outputs": [],
   "source": [
    "def plot_index_ploty(indice,smooth):\n",
    "    nc=str(indice)+'_pred'\n",
    "    n_indice=all_index.index(indice)\n",
    "    n_smooth=all_smooth.index(smooth)\n",
    "    r=dfs[n_indice][n_smooth]\n",
    "    \n",
    "    r['Dia']=\"1\"\n",
    "    r['data']=pd.to_datetime(r[\"Ano\"].astype(str) + \"/\" + r[\"Mes\"].astype(str) + \"/\" + r[\"Dia\"])\n",
    "    \n",
    "    #############\n",
    "    r_0na=r.dropna()\n",
    "    \n",
    "    fig = make_subplots(rows=1, cols=2)\n",
    " ######### 0 na #################\n",
    "\n",
    "    fig.add_trace(go.Scatter(  ########real\n",
    "        line=dict(color=\"blue\"),\n",
    "            x=r_0na['data'],\n",
    "            y=r_0na[str(indice)],\n",
    "               name=str(indice)\n",
    "    ),\n",
    "     row=1,col=1)\n",
    "    fig.update_yaxes( title=indice+ ' s'+str(smooth),row=1, col=1)   \n",
    "    #fig.show()   \n",
    "\n",
    "########################## previsto\n",
    "    r_pred=r[r.isna().any(axis=1)]\n",
    "\n",
    "    if indice not in ['selic','IPCA']:\n",
    "        r_pred=r_pred.round(1) \n",
    "    else:\n",
    "         r_pred=r_pred.round(2)\n",
    "        \n",
    "    fig.add_trace(go.Scatter(\n",
    "         line=dict(color=\"black\"),\n",
    "        x=r_pred['data'],\n",
    "        y=r_pred[nc],\n",
    "        error_y=dict(\n",
    "        type='data',\n",
    "        symmetric=True,\n",
    "        array=r_pred['Erro'])\n",
    "              ),\n",
    "         row=1, col=2)\n",
    "    \n",
    "    fig.update_yaxes( title=indice+ ' PREVISTO'+' s'+str(smooth),row=1, col=2)\n",
    "    \n",
    "    fig.update_xaxes(dtick=\"M1\",    tickformat=\"%b\\n%Y\",\n",
    "                       row=1,col=2)\n",
    "    \n",
    "    fig.show() "
   ]
  },
  {
   "cell_type": "code",
   "execution_count": 45,
   "metadata": {
    "execution": {
     "iopub.execute_input": "2021-06-08T23:44:14.918844Z",
     "iopub.status.busy": "2021-06-08T23:44:14.918844Z",
     "iopub.status.idle": "2021-06-08T23:44:14.934845Z",
     "shell.execute_reply": "2021-06-08T23:44:14.933845Z",
     "shell.execute_reply.started": "2021-06-08T23:44:14.918844Z"
    },
    "tags": []
   },
   "outputs": [],
   "source": [
    "def plot_graphs(indice,smooth):\n",
    "    plot_index_erro_ploty(indice,smooth)\n",
    "    plot_index_ploty(indice,smooth)"
   ]
  },
  {
   "cell_type": "markdown",
   "metadata": {},
   "source": [
    "# PLOTS"
   ]
  },
  {
   "cell_type": "code",
   "execution_count": 46,
   "metadata": {
    "execution": {
     "iopub.execute_input": "2021-06-08T23:44:14.935846Z",
     "iopub.status.busy": "2021-06-08T23:44:14.935846Z",
     "iopub.status.idle": "2021-06-08T23:44:14.965847Z",
     "shell.execute_reply": "2021-06-08T23:44:14.964850Z",
     "shell.execute_reply.started": "2021-06-08T23:44:14.935846Z"
    },
    "tags": []
   },
   "outputs": [
    {
     "data": {
      "application/vnd.jupyter.widget-view+json": {
       "model_id": "78d18c33c77d4c88b5f169f7392b3bfc",
       "version_major": 2,
       "version_minor": 0
      },
      "text/plain": [
       "HBox(children=(Dropdown(description='Índice: ', options=('EPU', 'IBC_BR', 'ICE', 'IE_E', 'IPCA', 'ISA_E', 'sel…"
      ]
     },
     "metadata": {},
     "output_type": "display_data"
    }
   ],
   "source": [
    "smooth=ipywidgets.FloatSlider(value=0,min=0,max=0.25,step=0.05)\n",
    "indices=ipywidgets.Dropdown(options=all_index,  value=all_index[0],  description='Índice: ')\n",
    "ipywidgets.HBox([indices,smooth])"
   ]
  },
  {
   "cell_type": "code",
   "execution_count": 48,
   "metadata": {
    "execution": {
     "iopub.execute_input": "2021-06-08T23:45:00.910994Z",
     "iopub.status.busy": "2021-06-08T23:45:00.910994Z",
     "iopub.status.idle": "2021-06-08T23:45:00.933994Z",
     "shell.execute_reply": "2021-06-08T23:45:00.932990Z",
     "shell.execute_reply.started": "2021-06-08T23:45:00.910994Z"
    },
    "tags": []
   },
   "outputs": [
    {
     "data": {
      "application/vnd.jupyter.widget-view+json": {
       "model_id": "5d7998b1b9214151847a68bc22a33adb",
       "version_major": 2,
       "version_minor": 0
      },
      "text/plain": [
       "Output()"
      ]
     },
     "metadata": {},
     "output_type": "display_data"
    }
   ],
   "source": [
    "interactive_plot_graphs = interactive(plot_graphs,\n",
    "                                     indice=indices,\n",
    "                                     smooth=smooth)\n",
    "\n",
    "interactive_plot_graphs.children[-1]\n",
    "\n",
    "#interactive_plot_graphs"
   ]
  }
 ],
 "metadata": {
  "kernelspec": {
   "display_name": "Python 3",
   "language": "python",
   "name": "python3"
  },
  "language_info": {
   "codemirror_mode": {
    "name": "ipython",
    "version": 3
   },
   "file_extension": ".py",
   "mimetype": "text/x-python",
   "name": "python",
   "nbconvert_exporter": "python",
   "pygments_lexer": "ipython3",
   "version": "3.8.8"
  },
  "toc-autonumbering": true
 },
 "nbformat": 4,
 "nbformat_minor": 4
}
