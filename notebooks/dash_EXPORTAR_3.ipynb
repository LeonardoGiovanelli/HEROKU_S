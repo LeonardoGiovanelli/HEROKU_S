{
 "cells": [
  {
   "cell_type": "code",
   "execution_count": null,
   "metadata": {
    "tags": []
   },
   "outputs": [],
   "source": [
    "import pandas as pd"
   ]
  },
  {
   "cell_type": "code",
   "execution_count": null,
   "metadata": {
    "tags": []
   },
   "outputs": [],
   "source": [
    "import numpy as np"
   ]
  },
  {
   "cell_type": "code",
   "execution_count": null,
   "metadata": {
    "tags": []
   },
   "outputs": [],
   "source": [
    "#import matplotlib.pyplot as plt\n",
    "import ipywidgets\n",
    "from ipywidgets import interactive\n",
    "from ipywidgets import Layout, Button, Label\n",
    "from ipywidgets import GridspecLayout,HBox, VBox, Box\n"
   ]
  },
  {
   "cell_type": "code",
   "execution_count": null,
   "metadata": {
    "tags": []
   },
   "outputs": [],
   "source": [
    "import plotly.graph_objects as go\n",
    "import plotly.express as px\n",
    "\n",
    "from plotly.subplots import make_subplots\n",
    "\n",
    "import bqplot as bq"
   ]
  },
  {
   "cell_type": "code",
   "execution_count": null,
   "metadata": {
    "tags": []
   },
   "outputs": [],
   "source": [
    "all_smooth=list(np.arange(0,0.3,0.05))\n",
    "all_smooth=[round(x,2) for x in all_smooth]"
   ]
  },
  {
   "cell_type": "code",
   "execution_count": null,
   "metadata": {
    "tags": []
   },
   "outputs": [],
   "source": [
    "all_index=['EPU', 'IBC_BR', 'ICE', 'IE_E', 'IPCA', 'ISA_E', 'selic']"
   ]
  },
  {
   "cell_type": "code",
   "execution_count": null,
   "metadata": {
    "tags": []
   },
   "outputs": [],
   "source": [
    "dfs=[]\n",
    "names=[]\n",
    "names_url=[]\n",
    "url='https://raw.githubusercontent.com/LeonardoGiovanelli/TCC_INSPER_LCA/main/'\n",
    "\n",
    "fix='datas_dash_'\n",
    "\n",
    "for i in all_index:\n",
    "    name_aux=[]\n",
    "    names_aux_url=[]\n",
    "    datas=[]\n",
    "    for s in all_smooth:\n",
    "        aux=fix+i+'_'+str(s)+'.csv'\n",
    "        name_aux.append(aux)\n",
    "        \n",
    "        aux_url=url+aux\n",
    "        names_aux_url.append(aux_url)\n",
    "        data=pd.read_csv(aux_url)\n",
    "        datas.append(data)\n",
    "    names.append(name_aux) \n",
    "    names_url.append(names_aux_url)\n",
    "    dfs.append(datas)"
   ]
  },
  {
   "cell_type": "markdown",
   "metadata": {},
   "source": [
    "# Previsão de indíces econômicos"
   ]
  },
  {
   "cell_type": "code",
   "execution_count": null,
   "metadata": {
    "tags": []
   },
   "outputs": [],
   "source": [
    "def plot_index_ploty(indice,smooth):\n",
    "    nc=str(indice)+'_pred'\n",
    "    n_indice=all_index.index(indice)\n",
    "    n_smooth=all_smooth.index(smooth)\n",
    "    r=dfs[n_indice][n_smooth]\n",
    "    \n",
    "    r['Dia']=\"1\"\n",
    "    r['data']=pd.to_datetime(r[\"Ano\"].astype(str) + \"/\" + r[\"Mes\"].astype(str) + \"/\" + r[\"Dia\"])\n",
    "    \n",
    "    #############\n",
    "    r_0na=r.dropna()\n",
    "    \n",
    " ######### 0 na #################\n",
    "  \n",
    "    \n",
    "    fig=go.Figure()\n",
    "    \n",
    "    fig.update_layout(\n",
    "    title=\"Previsto x Testado\",\n",
    "    xaxis_title=\"Data\",\n",
    "    yaxis_title=indice\n",
    "    )\n",
    "        \n",
    "    fig = fig.add_trace(go.Scatter(\n",
    "            x=r_0na['data'],\n",
    "            y=r_0na[nc],\n",
    "             error_y=dict(\n",
    "            type='data',\n",
    "            symmetric=True,\n",
    "            array=r_0na['Erro']),\n",
    "             name=nc\n",
    "        ))\n",
    "    fig.add_trace(go.Scatter(\n",
    "            x=r_0na['data'],\n",
    "            y=r_0na[str(indice)],\n",
    "               name=str(indice)\n",
    "    ))\n",
    "        \n",
    "    fig.show()   \n",
    "\n",
    "########################## previsto\n",
    "    r_pred=r[r.isna().any(axis=1)]\n",
    "    #r_pred=r_pred.iloc[:,[0,1,-2,-1]]\n",
    "    \n",
    "    fig_px = px.bar(r_pred, \n",
    "                 x='data', \n",
    "                 y=nc, \n",
    "                 error_y=\"Erro\",\n",
    "                 title=\"Previsão\")\n",
    "    fig_px.show() "
   ]
  },
  {
   "cell_type": "markdown",
   "metadata": {},
   "source": [
    "# Erro na previsão"
   ]
  },
  {
   "cell_type": "code",
   "execution_count": null,
   "metadata": {
    "tags": []
   },
   "outputs": [],
   "source": [
    "url='https://raw.githubusercontent.com/LeonardoGiovanelli/TCC_INSPER_LCA/main/datas_dash_erro_'\n",
    "dfs_erro=[url+x+'.csv' for x in all_index]\n",
    "dfs_erro=[pd.read_csv(x) for x in dfs_erro]"
   ]
  },
  {
   "cell_type": "code",
   "execution_count": null,
   "metadata": {
    "tags": []
   },
   "outputs": [],
   "source": [
    "def erro_smooth_indices(smooth,indice):\n",
    "    nr=int(round(2+3*smooth/.05,0))\n",
    "    np=int(round(3+3*smooth/.05,0))\n",
    "    real=dfs_erro[indice].iloc[:,nr]\n",
    "    previsto=dfs_erro[indice].iloc[:,np]\n",
    "\n",
    "    erro_div=[p/r-1 for p,r in zip(previsto,real)]\n",
    "    return(erro_div)\n",
    "\n",
    "def erro_mensal_plot(smooth):\n",
    "    erro_mensal=pd.DataFrame([erro_smooth_indices(smooth,i) for i in range(len(all_index))]).transpose()\n",
    "    erro_mensal.columns=all_index\n",
    "    return(erro_mensal)"
   ]
  },
  {
   "cell_type": "code",
   "execution_count": null,
   "metadata": {
    "tags": []
   },
   "outputs": [],
   "source": [
    "def erro_indi_smooth(indice,smooth):\n",
    "    nr=int(round(2+3*smooth/.05,0))\n",
    "    np=int(round(3+3*smooth/.05,0))\n",
    "    real=dfs_erro[indice].iloc[:,nr]\n",
    "    previsto=dfs_erro[indice].iloc[:,np]\n",
    "\n",
    "    erro_div=[p/r-1 for p,r in zip(previsto,real)]\n",
    "    erro_div_mean=sum(erro_div)/len(erro_div)\n",
    "    return(erro_div_mean)\n",
    "\n",
    "def erro_indi_smooths(indice,smooths):\n",
    "    erro_div_means=[erro_indi_smooth(indice,s) for s in smooths]\n",
    "    return(erro_div_means)"
   ]
  },
  {
   "cell_type": "code",
   "execution_count": null,
   "metadata": {
    "tags": []
   },
   "outputs": [],
   "source": [
    "erros=pd.DataFrame([erro_indi_smooths(i,all_smooth) for i  in range(len(all_index))]).transpose()\n",
    "erros.columns=all_index\n",
    "erros.index=all_smooth\n",
    "erros=erros*100\n",
    "erros=erros.round(1)"
   ]
  },
  {
   "cell_type": "code",
   "execution_count": null,
   "metadata": {
    "tags": []
   },
   "outputs": [],
   "source": [
    "erros_de=erros.describe().round(0)"
   ]
  },
  {
   "cell_type": "markdown",
   "metadata": {},
   "source": [
    "# Previsão"
   ]
  },
  {
   "cell_type": "code",
   "execution_count": null,
   "metadata": {
    "tags": []
   },
   "outputs": [],
   "source": [
    "def index(indice,slider):\n",
    "    all_dims=['EPU','IBC_BR','ICE','IE_E','IPCA','ISA_E','selic']\n",
    "    all_smooth=list(np.arange(0,0.3,0.05))\n",
    "    all_smooth=[round(x,2) for x in all_smooth]\n",
    "    n_indice=all_dims.index(indice)\n",
    "    \n",
    "    r=dfs_erro[n_indice]\n",
    "    \n",
    "    r['Dia']=\"1\"\n",
    "    r['data']=pd.to_datetime(r[\"Ano\"].astype(str) + \"/\" + r[\"Mes\"].astype(str) + \"/\" + r[\"Dia\"])\n",
    "    r=r.drop(columns=['Ano','Mes','Dia'])\n",
    "    \n",
    "    r=r.set_index(['data'])\n",
    "    n_smooth_0=int(3/0.05*slider)\n",
    "    n_smooth_1=int(n_smooth_0+3)\n",
    "    r=r.iloc[:,n_smooth_0:n_smooth_1]\n",
    "    r=r.reset_index()\n",
    "    return(r)"
   ]
  },
  {
   "cell_type": "code",
   "execution_count": null,
   "metadata": {
    "tags": []
   },
   "outputs": [],
   "source": [
    "def plot_index_erro_ploty(indice,smooth):\n",
    "    \n",
    " ############ get data   \n",
    "    r=index(indice,smooth)\n",
    "    \n",
    "    n_real=r.columns[1]\n",
    "    n_pred=r.columns[2]\n",
    "    n_erro=r.columns[3]\n",
    "#############  \n",
    "\n",
    "    fig = make_subplots(rows=1, cols=2)\n",
    "################ comparação\n",
    "    fig = fig.add_trace(go.Scatter(\n",
    "        x=r['data'],\n",
    "        y=r[n_pred],\n",
    "         error_y=dict(\n",
    "        type='data',\n",
    "        symmetric=True,\n",
    "        array=r[n_erro]),\n",
    "         name=n_pred),\n",
    "           row=1, col=1)\n",
    "    \n",
    "    fig.add_trace(go.Scatter(\n",
    "        x=r['data'],\n",
    "        y=r[n_real],\n",
    "       name=n_real),\n",
    "         row=1, col=1)\n",
    "    fig.update_yaxes( title=indice+' s'+str(smooth),row=1, col=1)\n",
    "\n",
    "### box\n",
    "    df=erro_mensal_plot(smooth)\n",
    "    df=df*100\n",
    "    df=df.round(0)\n",
    "    x=df.columns\n",
    "    y=list(range(len(df)))\n",
    "    \n",
    "    for xd, yd in zip(x, y):\n",
    "            fig.add_trace(\n",
    "                go.Box(\n",
    "                y=df.iloc[:,yd],\n",
    "                name=xd,\n",
    "                jitter=0.5,\n",
    "                boxpoints=False,\n",
    "                marker_color='black')\n",
    "                ,row=1,col=2)\n",
    "    fig.update_yaxes( title='Erro '+indice+' s'+str(smooth)+'(%)',row=1, col=2)\n",
    "####### show\n",
    "    fig.show()"
   ]
  },
  {
   "cell_type": "code",
   "execution_count": null,
   "metadata": {
    "tags": []
   },
   "outputs": [],
   "source": [
    "def plot_graphs(indice,smooth):\n",
    "    plot_index_erro_ploty(indice,smooth)\n",
    "    #plot_index_ploty(indice,smooth)"
   ]
  },
  {
   "cell_type": "markdown",
   "metadata": {},
   "source": [
    "# PLOTS"
   ]
  },
  {
   "cell_type": "code",
   "execution_count": null,
   "metadata": {
    "tags": []
   },
   "outputs": [],
   "source": [
    "smooth=ipywidgets.FloatSlider(value=0,min=0,max=0.25,step=0.05)"
   ]
  },
  {
   "cell_type": "code",
   "execution_count": null,
   "metadata": {
    "tags": []
   },
   "outputs": [],
   "source": [
    "interactive_plot_graphs = interactive(plot_graphs,\n",
    "                                     indice=all_index,\n",
    "                                     smooth=smooth)\n",
    "\n",
    "output = interactive_plot_graphs.children[-1]\n",
    "\n",
    "interactive_plot_graphs"
   ]
  },
  {
   "cell_type": "code",
   "execution_count": null,
   "metadata": {
    "tags": []
   },
   "outputs": [],
   "source": [
    "#interactive_erro_mensal_plot = interactive(erro_mensal_plot,\n",
    "                                        #smooth=smooth)\n",
    "\n",
    "#output = interactive_erro_mensal_plot.children[-1]\n",
    "\n",
    "#interactive_erro_mensal_plot"
   ]
  }
 ],
 "metadata": {
  "kernelspec": {
   "display_name": "Python 3",
   "language": "python",
   "name": "python3"
  },
  "language_info": {
   "codemirror_mode": {
    "name": "ipython",
    "version": 3
   },
   "file_extension": ".py",
   "mimetype": "text/x-python",
   "name": "python",
   "nbconvert_exporter": "python",
   "pygments_lexer": "ipython3",
   "version": "3.8.8"
  },
  "toc-autonumbering": true
 },
 "nbformat": 4,
 "nbformat_minor": 4
}
