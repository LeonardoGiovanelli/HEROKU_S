{
 "cells": [
  {
   "cell_type": "markdown",
   "metadata": {},
   "source": [
    "# Bibliotecas"
   ]
  },
  {
   "cell_type": "code",
   "execution_count": 6,
   "metadata": {
    "execution": {
     "iopub.execute_input": "2021-05-25T19:59:47.288303Z",
     "iopub.status.busy": "2021-05-25T19:59:47.287304Z",
     "iopub.status.idle": "2021-05-25T19:59:47.296303Z",
     "shell.execute_reply": "2021-05-25T19:59:47.295301Z",
     "shell.execute_reply.started": "2021-05-25T19:59:47.288303Z"
    }
   },
   "outputs": [],
   "source": [
    "import pandas as pd\n",
    "pd.set_option('display.max_columns', None)"
   ]
  },
  {
   "cell_type": "code",
   "execution_count": 7,
   "metadata": {
    "execution": {
     "iopub.execute_input": "2021-05-25T19:59:47.297300Z",
     "iopub.status.busy": "2021-05-25T19:59:47.297300Z",
     "iopub.status.idle": "2021-05-25T19:59:47.310299Z",
     "shell.execute_reply": "2021-05-25T19:59:47.310299Z",
     "shell.execute_reply.started": "2021-05-25T19:59:47.297300Z"
    },
    "tags": []
   },
   "outputs": [],
   "source": [
    "import numpy as np"
   ]
  },
  {
   "cell_type": "code",
   "execution_count": 8,
   "metadata": {
    "execution": {
     "iopub.execute_input": "2021-05-25T19:59:47.311300Z",
     "iopub.status.busy": "2021-05-25T19:59:47.311300Z",
     "iopub.status.idle": "2021-05-25T19:59:47.327303Z",
     "shell.execute_reply": "2021-05-25T19:59:47.326300Z",
     "shell.execute_reply.started": "2021-05-25T19:59:47.311300Z"
    },
    "tags": []
   },
   "outputs": [],
   "source": [
    "import plotly.graph_objects as go"
   ]
  },
  {
   "cell_type": "markdown",
   "metadata": {},
   "source": [
    "# Datas"
   ]
  },
  {
   "cell_type": "code",
   "execution_count": 9,
   "metadata": {
    "execution": {
     "iopub.execute_input": "2021-05-25T19:59:47.328304Z",
     "iopub.status.busy": "2021-05-25T19:59:47.328304Z",
     "iopub.status.idle": "2021-05-25T19:59:47.342303Z",
     "shell.execute_reply": "2021-05-25T19:59:47.341305Z",
     "shell.execute_reply.started": "2021-05-25T19:59:47.328304Z"
    },
    "tags": []
   },
   "outputs": [],
   "source": [
    "all_smooth=list(np.arange(0,0.3,0.05))\n",
    "all_smooth=[round(x,2) for x in all_smooth]"
   ]
  },
  {
   "cell_type": "code",
   "execution_count": 10,
   "metadata": {
    "execution": {
     "iopub.execute_input": "2021-05-25T19:59:47.344305Z",
     "iopub.status.busy": "2021-05-25T19:59:47.343304Z",
     "iopub.status.idle": "2021-05-25T19:59:47.352744Z",
     "shell.execute_reply": "2021-05-25T19:59:47.351725Z",
     "shell.execute_reply.started": "2021-05-25T19:59:47.344305Z"
    },
    "tags": []
   },
   "outputs": [],
   "source": [
    "all_index=['EPU', 'IBC_BR', 'ICE', 'IE_E', 'IPCA', 'ISA_E', 'selic']"
   ]
  },
  {
   "cell_type": "code",
   "execution_count": 11,
   "metadata": {
    "execution": {
     "iopub.execute_input": "2021-05-25T19:59:47.355731Z",
     "iopub.status.busy": "2021-05-25T19:59:47.354732Z",
     "iopub.status.idle": "2021-05-25T20:00:00.687617Z",
     "shell.execute_reply": "2021-05-25T20:00:00.687617Z",
     "shell.execute_reply.started": "2021-05-25T19:59:47.355731Z"
    },
    "tags": []
   },
   "outputs": [],
   "source": [
    "dfs=[]\n",
    "names=[]\n",
    "names_url=[]\n",
    "url='https://raw.githubusercontent.com/LeonardoGiovanelli/TCC_INSPER_LCA/main/'\n",
    "\n",
    "fix='datas_dash_'\n",
    "\n",
    "for i in all_index:\n",
    "    name_aux=[]\n",
    "    names_aux_url=[]\n",
    "    datas=[]\n",
    "    for s in all_smooth:\n",
    "        aux=fix+i+'_'+str(s)+'.csv'\n",
    "        name_aux.append(aux)\n",
    "        \n",
    "        aux_url=url+aux\n",
    "        names_aux_url.append(aux_url)\n",
    "        data=pd.read_csv(aux_url)\n",
    "        datas.append(data)\n",
    "    names.append(name_aux) \n",
    "    names_url.append(names_aux_url)\n",
    "    dfs.append(datas)"
   ]
  },
  {
   "cell_type": "markdown",
   "metadata": {},
   "source": [
    "# Voila"
   ]
  },
  {
   "cell_type": "code",
   "execution_count": 12,
   "metadata": {
    "execution": {
     "iopub.execute_input": "2021-05-25T20:00:00.696566Z",
     "iopub.status.busy": "2021-05-25T20:00:00.696566Z",
     "iopub.status.idle": "2021-05-25T20:00:00.767772Z",
     "shell.execute_reply": "2021-05-25T20:00:00.766771Z",
     "shell.execute_reply.started": "2021-05-25T20:00:00.696566Z"
    }
   },
   "outputs": [],
   "source": [
    "#import matplotlib.pyplot as plt\n",
    "from ipywidgets import interactive"
   ]
  },
  {
   "cell_type": "markdown",
   "metadata": {},
   "source": [
    "### plotly"
   ]
  },
  {
   "cell_type": "code",
   "execution_count": 13,
   "metadata": {
    "execution": {
     "iopub.execute_input": "2021-05-25T20:00:00.768771Z",
     "iopub.status.busy": "2021-05-25T20:00:00.768771Z",
     "iopub.status.idle": "2021-05-25T20:00:00.783772Z",
     "shell.execute_reply": "2021-05-25T20:00:00.782772Z",
     "shell.execute_reply.started": "2021-05-25T20:00:00.768771Z"
    },
    "tags": []
   },
   "outputs": [],
   "source": [
    "def plot_index_ploty(indice,smooth):\n",
    "    \n",
    "    n_indice=all_index.index(indice)\n",
    "    n_smooth=all_smooth.index(smooth)\n",
    "    r=dfs[n_indice][n_smooth]\n",
    "    \n",
    "    r['Dia']=\"1\"\n",
    "    r['data']=pd.to_datetime(r[\"Ano\"].astype(str) + \"/\" + r[\"Mes\"].astype(str) + \"/\" + r[\"Dia\"])\n",
    "    \n",
    "    nc=str(indice)+'_pred'\n",
    "\n",
    "\n",
    "    \n",
    "    fig=go.Figure()\n",
    "    fig = fig.add_trace(go.Scatter(\n",
    "            x=r['data'],\n",
    "            y=r[nc],\n",
    "             error_y=dict(\n",
    "            type='data',\n",
    "            symmetric=True,\n",
    "            array=r['Erro']),\n",
    "             name=nc\n",
    "        ))\n",
    "    fig.add_trace(go.Scatter(\n",
    "            x=r['data'],\n",
    "            y=r[str(indice)],\n",
    "               name=str(indice)\n",
    "    ))\n",
    "    \n",
    "\n",
    "    nm=(2020-2013)*12+2-2\n",
    "    fig.add_shape(type=\"line\",\n",
    "    x0=r['data'][nm], y0=min(r[str(indice)]), \n",
    "    x1=r['data'][nm], y1=r[str(indice)][nm],\n",
    "    line=dict(color=\"black\",width=3))\n",
    "    fig.update_layout(\n",
    "    autosize=False,\n",
    "    width=1500,\n",
    "    height=800)\n",
    "        \n",
    "    fig.show()\n",
    "\n",
    "    \n",
    "    "
   ]
  },
  {
   "cell_type": "code",
   "execution_count": 14,
   "metadata": {
    "execution": {
     "iopub.execute_input": "2021-05-25T20:00:00.784771Z",
     "iopub.status.busy": "2021-05-25T20:00:00.784771Z",
     "iopub.status.idle": "2021-05-25T20:00:01.314290Z",
     "shell.execute_reply": "2021-05-25T20:00:01.314290Z",
     "shell.execute_reply.started": "2021-05-25T20:00:00.784771Z"
    },
    "tags": []
   },
   "outputs": [
    {
     "data": {
      "application/vnd.jupyter.widget-view+json": {
       "model_id": "48b2359ef13d42e597daac0f324a4be4",
       "version_major": 2,
       "version_minor": 0
      },
      "text/plain": [
       "interactive(children=(Dropdown(description='indice', options=('EPU', 'IBC_BR', 'ICE', 'IE_E', 'IPCA', 'ISA_E',…"
      ]
     },
     "metadata": {},
     "output_type": "display_data"
    }
   ],
   "source": [
    "interactive_plot = interactive(plot_index_ploty,indice=all_index, smooth=(0,0.3,0.05))\n",
    "output = interactive_plot.children[-1]\n",
    "\n",
    "interactive_plot"
   ]
  }
 ],
 "metadata": {
  "kernelspec": {
   "display_name": "Python 3",
   "language": "python",
   "name": "python3"
  },
  "language_info": {
   "codemirror_mode": {
    "name": "ipython",
    "version": 3
   },
   "file_extension": ".py",
   "mimetype": "text/x-python",
   "name": "python",
   "nbconvert_exporter": "python",
   "pygments_lexer": "ipython3",
   "version": "3.8.8"
  },
  "toc-autonumbering": true
 },
 "nbformat": 4,
 "nbformat_minor": 4
}
