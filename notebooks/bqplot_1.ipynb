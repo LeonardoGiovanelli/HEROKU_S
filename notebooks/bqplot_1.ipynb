{
 "cells": [
  {
   "cell_type": "code",
   "execution_count": 2,
   "metadata": {
    "execution": {
     "iopub.execute_input": "2021-05-24T18:15:58.975727Z",
     "iopub.status.busy": "2021-05-24T18:15:58.974723Z",
     "iopub.status.idle": "2021-05-24T18:15:59.359522Z",
     "shell.execute_reply": "2021-05-24T18:15:59.359522Z",
     "shell.execute_reply.started": "2021-05-24T18:15:58.975727Z"
    },
    "tags": []
   },
   "outputs": [],
   "source": [
    "from bqplot import pyplot as plt\n",
    "import ipywidgets as widgets\n",
    "import numpy as np"
   ]
  },
  {
   "cell_type": "code",
   "execution_count": 3,
   "metadata": {
    "execution": {
     "iopub.execute_input": "2021-05-24T18:15:59.359522Z",
     "iopub.status.busy": "2021-05-24T18:15:59.359522Z",
     "iopub.status.idle": "2021-05-24T18:15:59.374659Z",
     "shell.execute_reply": "2021-05-24T18:15:59.374659Z",
     "shell.execute_reply.started": "2021-05-24T18:15:59.359522Z"
    }
   },
   "outputs": [],
   "source": [
    "# generate some fake \n",
    "n = 2000\n",
    "x = np.linspace(0.0, 10.0, n)\n",
    "np.random.seed(0)\n",
    "y = np.cumsum(np.random.randn(n)*10).astype(int)"
   ]
  },
  {
   "cell_type": "code",
   "execution_count": 4,
   "metadata": {
    "execution": {
     "iopub.execute_input": "2021-05-24T18:15:59.376660Z",
     "iopub.status.busy": "2021-05-24T18:15:59.376660Z",
     "iopub.status.idle": "2021-05-24T18:15:59.405661Z",
     "shell.execute_reply": "2021-05-24T18:15:59.405661Z",
     "shell.execute_reply.started": "2021-05-24T18:15:59.376660Z"
    }
   },
   "outputs": [],
   "source": [
    "fig_hist = plt.figure( title='Histogram')\n",
    "hist = plt.hist(y, bins=25)"
   ]
  },
  {
   "cell_type": "code",
   "execution_count": 5,
   "metadata": {
    "execution": {
     "iopub.execute_input": "2021-05-24T18:15:59.406659Z",
     "iopub.status.busy": "2021-05-24T18:15:59.406659Z",
     "iopub.status.idle": "2021-05-24T18:15:59.422367Z",
     "shell.execute_reply": "2021-05-24T18:15:59.421366Z",
     "shell.execute_reply.started": "2021-05-24T18:15:59.406659Z"
    }
   },
   "outputs": [],
   "source": [
    "hist.bins = 10;"
   ]
  },
  {
   "cell_type": "code",
   "execution_count": 6,
   "metadata": {
    "execution": {
     "iopub.execute_input": "2021-05-24T18:15:59.423368Z",
     "iopub.status.busy": "2021-05-24T18:15:59.423368Z",
     "iopub.status.idle": "2021-05-24T18:15:59.437365Z",
     "shell.execute_reply": "2021-05-24T18:15:59.437365Z",
     "shell.execute_reply.started": "2021-05-24T18:15:59.423368Z"
    }
   },
   "outputs": [],
   "source": [
    "slider = widgets.IntSlider(description='Bins number', min=1, max=100, v_model=30)"
   ]
  },
  {
   "cell_type": "code",
   "execution_count": 7,
   "metadata": {
    "execution": {
     "iopub.execute_input": "2021-05-24T18:15:59.438366Z",
     "iopub.status.busy": "2021-05-24T18:15:59.438366Z",
     "iopub.status.idle": "2021-05-24T18:15:59.483365Z",
     "shell.execute_reply": "2021-05-24T18:15:59.483365Z",
     "shell.execute_reply.started": "2021-05-24T18:15:59.438366Z"
    }
   },
   "outputs": [
    {
     "data": {
      "application/vnd.jupyter.widget-view+json": {
       "model_id": "e24ebe977e8b464b874979e206cb5043",
       "version_major": 2,
       "version_minor": 0
      },
      "text/plain": [
       "GridspecLayout(children=(Figure(axes=[Axis(scale=LinearScale()), Axis(orientation='vertical', scale=LinearScal…"
      ]
     },
     "metadata": {},
     "output_type": "display_data"
    }
   ],
   "source": [
    "widgets.link((hist, 'bins'), (slider, 'value'))\n",
    "\n",
    "fig_lines = plt.figure( title='Line Chart')\n",
    "lines = plt.plot(x, y)\n",
    "\n",
    "fig_lines.layout.width = 'auto'\n",
    "fig_lines.layout.height = 'auto'\n",
    "fig_hist.layout.width = 'auto'\n",
    "fig_hist.layout.height = 'auto'\n",
    "\n",
    "grid_layout = widgets.GridspecLayout(5, 3)\n",
    "\n",
    "grid_layout[:2, :] = fig_lines\n",
    "grid_layout[2:4, :] = fig_hist\n",
    "grid_layout[4, 1] = slider\n",
    "\n",
    "grid_layout.layout.height = '1000px'\n",
    "\n",
    "grid_layout"
   ]
  },
  {
   "cell_type": "code",
   "execution_count": 8,
   "metadata": {
    "execution": {
     "iopub.execute_input": "2021-05-24T18:15:59.484365Z",
     "iopub.status.busy": "2021-05-24T18:15:59.484365Z",
     "iopub.status.idle": "2021-05-24T18:15:59.499366Z",
     "shell.execute_reply": "2021-05-24T18:15:59.499366Z",
     "shell.execute_reply.started": "2021-05-24T18:15:59.484365Z"
    }
   },
   "outputs": [],
   "source": [
    "selector = plt.brush_int_selector()\n",
    "def update_range(*ignore):\n",
    "    if selector.selected is not None and len(selector.selected) == 2:\n",
    "        xmin, xmax = selector.selected\n",
    "        mask = (x > xmin) & (x < xmax)\n",
    "        hist.sample = y[mask]\n",
    "selector.observe(update_range, 'selected')        "
   ]
  },
  {
   "cell_type": "code",
   "execution_count": null,
   "metadata": {},
   "outputs": [],
   "source": []
  }
 ],
 "metadata": {
  "kernelspec": {
   "display_name": "Python 3",
   "language": "python",
   "name": "python3"
  },
  "language_info": {
   "codemirror_mode": {
    "name": "ipython",
    "version": 3
   },
   "file_extension": ".py",
   "mimetype": "text/x-python",
   "name": "python",
   "nbconvert_exporter": "python",
   "pygments_lexer": "ipython3",
   "version": "3.8.8"
  },
  "widgets": {
   "application/vnd.jupyter.widget-state+json": {
    "state": {},
    "version_major": 2,
    "version_minor": 0
   }
  }
 },
 "nbformat": 4,
 "nbformat_minor": 4
}
